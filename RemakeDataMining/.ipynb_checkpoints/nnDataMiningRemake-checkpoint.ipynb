{
 "cells": [
  {
   "cell_type": "code",
   "execution_count": 90,
   "id": "ed7ffab8",
   "metadata": {},
   "outputs": [],
   "source": [
    "from NeuralNetwork import NN,Agent\n",
    "import torch\n",
    "from csvreader import read_csv\n",
    "from random import randint\n",
    "import matplotlib.pyplot as plt\n",
    "import pandas as pd"
   ]
  },
  {
   "cell_type": "code",
   "execution_count": 91,
   "id": "99591a87",
   "metadata": {},
   "outputs": [],
   "source": [
    "\n",
    "def create_all_incidents_list():\n",
    "    df = pd.read_csv('sncb_data_challenge.csv', delimiter=';', index_col=False)\n",
    "    all_incidents = []\n",
    "    for x in range(len(df)):\n",
    "        incident = df.loc[x,df.columns==\"incident_type\"].values.astype(int)[0]\n",
    "        if incident not in all_incidents:\n",
    "            all_incidents.append(incident)\n",
    "\n",
    "    return all_incidents"
   ]
  },
  {
   "cell_type": "code",
   "execution_count": 92,
   "id": "671cb654",
   "metadata": {},
   "outputs": [],
   "source": [
    "\n",
    "\n",
    "def create_all_events_list():\n",
    "    df = pd.read_csv('sncb_data_challenge.csv', delimiter=';', index_col=False)\n",
    "    all_events = []\n",
    "    for x in range(len(df)):\n",
    "        for event in df.loc[x,df.columns==\"events_sequence\"].values[0].strip(\"[]\").split(\", \"):\n",
    "            if event not in all_events:\n",
    "                all_events.append(event)\n",
    "\n",
    "    return all_events"
   ]
  },
  {
   "cell_type": "code",
   "execution_count": 93,
   "id": "dfe0d49e",
   "metadata": {},
   "outputs": [],
   "source": [
    "all_events = create_all_events_list()\n",
    "all_incidents = create_all_incidents_list()"
   ]
  },
  {
   "cell_type": "code",
   "execution_count": 94,
   "id": "4fb7c727",
   "metadata": {},
   "outputs": [],
   "source": [
    "def fill_event_list(all_events, events):\n",
    "    filled_list = [0]*len(all_events)\n",
    "    for i in events:\n",
    "        filled_list[all_events.index(i)] = 1\n",
    "    return filled_list\n"
   ]
  },
  {
   "cell_type": "code",
   "execution_count": 95,
   "id": "e4707de1",
   "metadata": {},
   "outputs": [
    {
     "name": "stdout",
     "output_type": "stream",
     "text": [
      "[1, 0, 0, 0, 0, 1, 0, 0, 1, 1, 1, 0, 0, 0, 0, 0, 0, 0, 1, 0, 1, 1, 0, 1, 1, 0, 1, 0, 0, 1, 0, 1, 0, 1, 0, 0, 0, 0, 0, 0, 0, 0, 0, 0, 1, 0, 0, 0, 0, 0, 0, 0, 0, 0, 0, 0, 0, 0, 0, 0, 0, 0, 0, 0, 0, 0, 0, 0, 0, 0, 0, 0, 0, 0, 1, 1, 1, 1, 1, 1, 1, 1, 1, 1, 1, 1, 0, 0, 0, 0, 0, 0, 0, 0, 0, 0, 0, 0, 0, 0, 0, 0, 0, 0, 0, 0, 0, 0, 0, 0, 0, 0, 0, 0, 0, 0, 0, 0, 0, 0, 0, 0, 0, 0, 0, 0, 0, 0, 0, 0, 0, 0, 0, 0, 0, 0, 0, 0, 0, 0, 0, 0, 0, 0, 0, 0, 0, 0, 0, 0, 0, 0, 0, 0, 0, 0, 0, 0, 0, 0, 0, 0, 0, 0, 0, 0, 0, 0, 0, 0, 0, 0, 0, 0, 0, 0, 0, 0, 0, 0, 0, 0, 0, 0, 0, 0, 0, 0, 0, 0, 0, 0, 0, 0, 0, 0, 0, 0, 0, 0, 0, 0, 0, 0, 0, 0, 0, 0, 0, 0, 0, 0, 0, 0, 0, 0, 0, 0, 0, 0, 0, 0, 0, 0, 0, 0, 0, 0, 0, 0, 0, 0, 0, 0, 0, 0, 0, 0, 0, 0, 0, 0, 0, 0, 0, 0, 0, 0, 0, 0, 0, 0, 0, 0, 0, 0, 0, 0, 0, 0, 0, 0, 0, 0, 0, 0, 0, 0, 0, 0, 0, 0, 0, 0, 0, 0, 0, 0, 0, 0, 0, 0, 0, 0, 0, 0, 0, 0, 0, 0, 0, 0, 0, 0, 0, 0, 0, 0, 0, 0, 0, 0, 0, 0, 0, 0, 0, 0, 0, 0, 0, 0, 0, 0, 0, 0, 0, 0, 0, 0, 0, 0, 0, 0, 0, 0, 0, 0, 0, 0, 0, 0, 0, 0, 0, 0, 0, 0, 0, 0, 0, 0, 0, 0, 0, 0, 0, 0, 0, 0, 0, 0, 0, 0, 0, 0, 0, 0, 0, 0, 0, 0, 0, 0, 0, 0, 0, 0, 0, 0, 0, 0, 0, 0, 0, 0, 0, 0, 0, 0, 0, 0, 0, 0, 0, 0, 0, 0, 0, 0, 0, 0, 0, 0, 0, 0, 0, 0, 0, 0, 0, 0, 0, 0, 0, 0, 0, 0, 0, 0, 0, 0, 0, 0, 0, 0, 0, 0, 0, 0, 0, 0, 0, 0, 0, 0, 0, 0, 0, 0, 0, 0, 0, 0, 0, 0, 0, 0, 0, 0, 0, 0, 0, 0, 0, 0, 0, 0, 0, 0, 0, 0, 0, 0, 0, 0, 0, 0, 0, 0, 0, 0, 0, 0, 0, 0, 0, 0, 0, 0, 0, 0, 0, 0, 0, 0, 0, 0, 0, 0, 0, 0, 0, 0, 0, 0, 0, 0, 0, 0, 0, 0, 0, 0, 0, 0, 0, 0, 0, 0, 0, 0, 0, 0, 0, 0, 0, 0, 0, 0, 0, 0, 0, 0, 0, 0, 0, 0, 0, 0, 0, 0, 0, 0, 0, 0, 0, 0, 0, 0, 0, 0, 0, 0, 0, 0, 0, 0, 0, 0, 0, 0, 0, 0, 0, 0, 0, 0, 0, 0, 0, 0, 0, 0, 0, 0, 0, 0, 0, 0, 0, 0, 0, 0, 0, 0, 0, 0, 0, 0, 0, 0, 0, 0, 0, 0, 0, 0, 0, 0, 0, 0, 0, 0, 0, 0, 0, 0, 0, 0, 0, 0, 0, 0, 0, 0, 0, 0, 0, 0, 0, 0, 0, 0, 0, 0, 0, 0, 0, 0, 0, 0, 0, 0, 0, 0, 0, 0, 0, 0, 0, 0, 0, 0, 0, 0, 0, 0, 0, 0, 0, 0, 0, 0, 0, 0, 0, 0, 0, 0, 0, 0, 0, 0, 0, 0, 0, 0, 0, 0, 0, 0, 0, 0, 0, 0, 0, 0, 0, 0, 0, 0, 0, 0, 0, 0, 0, 0, 0, 0, 0, 0, 0, 0, 0, 0, 0, 0, 0, 0, 0, 0, 0, 0, 0, 0, 0, 0, 0, 0, 0, 0, 0, 0, 0, 0, 0, 0, 0, 0, 0, 0, 0, 0, 0, 0, 0, 0, 0, 0, 0, 0, 0, 0, 0, 0, 0, 0, 0, 0, 0, 0, 0, 0, 0, 0, 0, 0, 0, 0, 0, 0, 0, 0, 0, 0, 0, 0, 0, 0, 0, 0, 0, 0, 0, 0, 0, 0, 0, 0, 0, 0, 0, 0, 0, 0, 0, 0, 0, 0, 0, 0, 0, 0, 0, 0, 0, 0, 0, 0, 0, 0, 0, 0, 0, 0, 0, 0, 0, 0, 0, 0, 0, 0, 0, 0, 0, 0, 0, 0, 0, 0, 0, 0, 0, 0, 0, 0, 0, 0, 0, 0, 0, 0, 0, 0, 0, 0, 0, 0, 0, 0, 0, 0, 0, 0, 0, 0, 0, 0, 0, 0, 0, 0, 0, 0, 0, 0, 0, 0, 0, 0, 0, 0, 0, 0, 0, 0, 0, 0, 0, 0, 0, 0, 0, 0, 0, 0, 0, 0, 0, 0, 0, 0, 0, 0, 0, 0, 0, 0, 0, 0, 0, 0, 0, 0, 0, 0, 0, 0, 0, 0, 0, 0, 0, 0, 0, 0, 0, 0, 0, 0, 0, 0, 0, 0, 0, 0, 0, 0, 0, 0, 0, 0, 0, 0, 0, 0, 0, 0, 0, 0, 0, 0, 0, 0, 0, 0, 0, 0, 0, 0, 0, 0, 0, 0, 0]\n",
      "13\n",
      "10\n"
     ]
    }
   ],
   "source": [
    "agent = Agent(len(all_events),12,64)\n",
    "df = pd.read_csv('sncb_data_challenge.csv', delimiter=';', index_col=False)\n",
    "state = fill_event_list(all_events,df.loc[1,df.columns==\"events_sequence\"].values[0].strip(\"[]\").split(\", \"))\n",
    "print(state)\n",
    "print(df.loc[1,df.columns==\"incident_type\"].values.astype(int)[0])\n",
    "print(torch.argmax(agent.forward(state)).item())\n"
   ]
  },
  {
   "cell_type": "code",
   "execution_count": 96,
   "id": "11764d8d",
   "metadata": {},
   "outputs": [],
   "source": [
    "NB_FOLDS=10\n",
    "def get_lines(k,index,number):\n",
    "    train = []\n",
    "    test = []\n",
    "    fold_size = number / k\n",
    "    for i in range(number):\n",
    "        if i >= fold_size* index and i < fold_size* (index+1):\n",
    "            test.append(i)\n",
    "        else:\n",
    "            train.append(i)\n",
    "    return train, test"
   ]
  },
  {
   "cell_type": "code",
   "execution_count": 97,
   "id": "d1cb561f",
   "metadata": {},
   "outputs": [],
   "source": [
    "def hiddenLayerComparaison(hidden):\n",
    "    df = pd.read_csv('sncb_data_challenge.csv', delimiter=';', index_col=False)\n",
    "    accuracies = []\n",
    "\n",
    "    for fold in range(NB_FOLDS):\n",
    "        agent = Agent(len(all_events),12,64,0.005)\n",
    "        accuracy=0\n",
    "        train, test = get_lines(NB_FOLDS, fold, len(df))\n",
    "        for j in train:\n",
    "\n",
    "            target = [0] * 12\n",
    "            x = j #randint(0,28000)\n",
    "            target[all_incidents.index(df.loc[x,df.columns==\"incident_type\"].values.astype(int)[0])] = 1000\n",
    "            state = fill_event_list(all_events,df.loc[x,df.columns==\"events_sequence\"].values[0].strip(\"[]\").split(\", \"))\n",
    "            agent.train(state,target)\n",
    "\n",
    "        for j in test:\n",
    "            state = fill_event_list(all_events,df.loc[j,df.columns==\"events_sequence\"].values[0].strip(\"[]\").split(\", \"))\n",
    "            if(torch.argmax(agent.forward(state)).item() == all_incidents.index(df.loc[x,df.columns==\"incident_type\"].values.astype(int)[0])):\n",
    "                accuracy+=1\n",
    "        accuracies.append(accuracy / (len(df) / NB_FOLDS))\n",
    "    return sum(accuracies)/len(accuracies)"
   ]
  },
  {
   "cell_type": "code",
   "execution_count": null,
   "id": "9f0f0c5e",
   "metadata": {},
   "outputs": [
    {
     "name": "stdout",
     "output_type": "stream",
     "text": [
      "Accuracy with i = 16 = 0.27299703264094954\n",
      "Accuracy with i = 32 = 0.25717111770524237\n",
      "Accuracy with i = 48 = 0.26607319485657766\n",
      "Accuracy with i = 64 = 0.26706231454005935\n",
      "Accuracy with i = 80 = 0.25914935707220577\n",
      "Accuracy with i = 96 = 0.26409495548961426\n",
      "Accuracy with i = 112 = 0.26112759643916916\n"
     ]
    }
   ],
   "source": [
    "for i in range(16,128,16):\n",
    "    print(\"Accuracy with i = \"+str(i)+\" = \"+ str(hiddenLayerComparaison(i)))\n"
   ]
  }
 ],
 "metadata": {
  "kernelspec": {
   "display_name": "pyriemann-env",
   "language": "python",
   "name": "python3"
  },
  "language_info": {
   "codemirror_mode": {
    "name": "ipython",
    "version": 3
   },
   "file_extension": ".py",
   "mimetype": "text/x-python",
   "name": "python",
   "nbconvert_exporter": "python",
   "pygments_lexer": "ipython3",
   "version": "3.10.16"
  }
 },
 "nbformat": 4,
 "nbformat_minor": 5
}
